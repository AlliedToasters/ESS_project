{
 "cells": [
  {
   "cell_type": "code",
   "execution_count": 2,
   "metadata": {
    "collapsed": true
   },
   "outputs": [],
   "source": [
    "import numpy as np\n",
    "import pandas as pd\n",
    "import matplotlib.pyplot as plt\n",
    "import seaborn as sns\n",
    "import scipy.stats as stats\n",
    "import statsmodels.stats.power as power\n",
    "from math import sqrt\n",
    "%matplotlib inline"
   ]
  },
  {
   "cell_type": "markdown",
   "metadata": {},
   "source": [
    "Using selected questions from the 2012 and 2014 editions of the European Social Survey, address the following questions. Keep track of your code and results in a Jupyter notebook or other source that you can share with your mentor. For each question, explain why you chose the approach you did.\n",
    "Here is the data file. And here is the codebook, with information about the variable coding and content.\n",
    "In this dataset, the same participants answered questions in 2012 and again 2014.\n",
    "1. Did people become less trusting from 2012 to 2014? Compute results for each country in the sample.\n",
    "2. Did people become happier from 2012 to 2014? Compute results for each country in the sample.\n",
    "3. Who reported watching more TV in 2012, men or women?\n",
    "4. Who was more likely to believe people were fair in 2012, people living with a partner or people living alone?\n",
    "5. Pick three or four of the countries in the sample and compare how often people met socially in 2014. Are there differences, and if so, which countries stand out?\n",
    "6. Pick three or four of the countries in the sample and compare how often people took part in social activities, relative to others their age, in 2014. Are there differences, and if so, which countries stand out?\n",
    "Submit a link to your work below."
   ]
  },
  {
   "cell_type": "code",
   "execution_count": 3,
   "metadata": {},
   "outputs": [],
   "source": [
    "#paired_ttest()"
   ]
  },
  {
   "cell_type": "code",
   "execution_count": 61,
   "metadata": {
    "collapsed": true
   },
   "outputs": [],
   "source": [
    "df = pd.read_csv('ESSdata_Thinkful.csv')"
   ]
  },
  {
   "cell_type": "code",
   "execution_count": 6,
   "metadata": {},
   "outputs": [
    {
     "data": {
      "text/html": [
       "<div>\n",
       "<style scoped>\n",
       "    .dataframe tbody tr th:only-of-type {\n",
       "        vertical-align: middle;\n",
       "    }\n",
       "\n",
       "    .dataframe tbody tr th {\n",
       "        vertical-align: top;\n",
       "    }\n",
       "\n",
       "    .dataframe thead th {\n",
       "        text-align: right;\n",
       "    }\n",
       "</style>\n",
       "<table border=\"1\" class=\"dataframe\">\n",
       "  <thead>\n",
       "    <tr style=\"text-align: right;\">\n",
       "      <th></th>\n",
       "      <th>cntry</th>\n",
       "      <th>idno</th>\n",
       "      <th>year</th>\n",
       "      <th>tvtot</th>\n",
       "      <th>ppltrst</th>\n",
       "      <th>pplfair</th>\n",
       "      <th>pplhlp</th>\n",
       "      <th>happy</th>\n",
       "      <th>sclmeet</th>\n",
       "      <th>sclact</th>\n",
       "      <th>gndr</th>\n",
       "      <th>agea</th>\n",
       "      <th>partner</th>\n",
       "    </tr>\n",
       "  </thead>\n",
       "  <tbody>\n",
       "    <tr>\n",
       "      <th>0</th>\n",
       "      <td>CH</td>\n",
       "      <td>5.0</td>\n",
       "      <td>6</td>\n",
       "      <td>3.0</td>\n",
       "      <td>3.0</td>\n",
       "      <td>10.0</td>\n",
       "      <td>5.0</td>\n",
       "      <td>8.0</td>\n",
       "      <td>5.0</td>\n",
       "      <td>4.0</td>\n",
       "      <td>2.0</td>\n",
       "      <td>60.0</td>\n",
       "      <td>1.0</td>\n",
       "    </tr>\n",
       "    <tr>\n",
       "      <th>1</th>\n",
       "      <td>CH</td>\n",
       "      <td>25.0</td>\n",
       "      <td>6</td>\n",
       "      <td>6.0</td>\n",
       "      <td>5.0</td>\n",
       "      <td>7.0</td>\n",
       "      <td>5.0</td>\n",
       "      <td>9.0</td>\n",
       "      <td>3.0</td>\n",
       "      <td>2.0</td>\n",
       "      <td>2.0</td>\n",
       "      <td>59.0</td>\n",
       "      <td>1.0</td>\n",
       "    </tr>\n",
       "    <tr>\n",
       "      <th>2</th>\n",
       "      <td>CH</td>\n",
       "      <td>26.0</td>\n",
       "      <td>6</td>\n",
       "      <td>1.0</td>\n",
       "      <td>8.0</td>\n",
       "      <td>8.0</td>\n",
       "      <td>8.0</td>\n",
       "      <td>7.0</td>\n",
       "      <td>6.0</td>\n",
       "      <td>3.0</td>\n",
       "      <td>1.0</td>\n",
       "      <td>24.0</td>\n",
       "      <td>2.0</td>\n",
       "    </tr>\n",
       "    <tr>\n",
       "      <th>3</th>\n",
       "      <td>CH</td>\n",
       "      <td>28.0</td>\n",
       "      <td>6</td>\n",
       "      <td>4.0</td>\n",
       "      <td>6.0</td>\n",
       "      <td>6.0</td>\n",
       "      <td>7.0</td>\n",
       "      <td>10.0</td>\n",
       "      <td>6.0</td>\n",
       "      <td>2.0</td>\n",
       "      <td>2.0</td>\n",
       "      <td>64.0</td>\n",
       "      <td>1.0</td>\n",
       "    </tr>\n",
       "    <tr>\n",
       "      <th>4</th>\n",
       "      <td>CH</td>\n",
       "      <td>29.0</td>\n",
       "      <td>6</td>\n",
       "      <td>5.0</td>\n",
       "      <td>6.0</td>\n",
       "      <td>7.0</td>\n",
       "      <td>5.0</td>\n",
       "      <td>8.0</td>\n",
       "      <td>7.0</td>\n",
       "      <td>2.0</td>\n",
       "      <td>2.0</td>\n",
       "      <td>55.0</td>\n",
       "      <td>1.0</td>\n",
       "    </tr>\n",
       "  </tbody>\n",
       "</table>\n",
       "</div>"
      ],
      "text/plain": [
       "  cntry  idno  year  tvtot  ppltrst  pplfair  pplhlp  happy  sclmeet  sclact  \\\n",
       "0    CH   5.0     6    3.0      3.0     10.0     5.0    8.0      5.0     4.0   \n",
       "1    CH  25.0     6    6.0      5.0      7.0     5.0    9.0      3.0     2.0   \n",
       "2    CH  26.0     6    1.0      8.0      8.0     8.0    7.0      6.0     3.0   \n",
       "3    CH  28.0     6    4.0      6.0      6.0     7.0   10.0      6.0     2.0   \n",
       "4    CH  29.0     6    5.0      6.0      7.0     5.0    8.0      7.0     2.0   \n",
       "\n",
       "   gndr  agea  partner  \n",
       "0   2.0  60.0      1.0  \n",
       "1   2.0  59.0      1.0  \n",
       "2   1.0  24.0      2.0  \n",
       "3   2.0  64.0      1.0  \n",
       "4   2.0  55.0      1.0  "
      ]
     },
     "execution_count": 6,
     "metadata": {},
     "output_type": "execute_result"
    }
   ],
   "source": [
    "df.head()"
   ]
  },
  {
   "cell_type": "markdown",
   "metadata": {},
   "source": [
    "## Question 1: Did people become less trusting from 2012 to 2014? Compute results for each country in the sample."
   ]
  },
  {
   "cell_type": "code",
   "execution_count": 67,
   "metadata": {},
   "outputs": [],
   "source": [
    "def compare_years(df, attr='ppltrst', country='ES'):\n",
    "    print('\\n\\n Computing results for {}.'.format(country))\n",
    "    data = df[df[attr].notnull()]\n",
    "    data = data[data.cntry==country]\n",
    "    yr12 = data[data.year==6]\n",
    "    yr12.index = yr12.idno\n",
    "    yr14 = data[data.year==7]\n",
    "    yr14.index = yr14.idno\n",
    "    \n",
    "    #Ensure that all samples occur in both years\n",
    "    for ind in yr12.index:\n",
    "        if ind not in yr14.index:\n",
    "            print('rejecting idno: ', ind)\n",
    "            yr12.drop([ind], inplace=True)\n",
    "    for ind in yr14.index:\n",
    "        if ind not in yr12.index:\n",
    "            print('rejecting idno: ', ind)\n",
    "            yr14.drop([ind], inplace=True)\n",
    "            \n",
    "    yr12[attr].hist(alpha=.5, label='2012')\n",
    "    yr14[attr].hist(alpha=.5, label='2014')\n",
    "    plt.legend();\n",
    "    plt.title('Trust response distribution for {}'.format(country));\n",
    "    plt.show();\n",
    "    \n",
    "    \n",
    "    ttest_res = stats.ttest_rel(yr12[attr], yr14[attr])\n",
    "    print(ttest_res)\n",
    "    alpha = ttest_res[1]\n",
    "    pooled_SD = sqrt((yr12[attr].std()+yr14[attr].std())/2)\n",
    "    effect_size = abs(yr12[attr].mean() - yr14[attr].mean()) / pooled_SD\n",
    "    print('statistical power: ', power.tt_solve_power(\n",
    "        effect_size=effect_size, \n",
    "        nobs=len(yr12),\n",
    "        alpha=alpha, \n",
    "        power=None, \n",
    "        alternative='two-sided'\n",
    "    ))\n",
    "    print(stats.kruskal(yr12[attr], yr14[attr]))\n",
    "    print('mean 2012: ', yr12[attr].mean(), \n",
    "          'median 2012: ', yr12[attr].median())\n",
    "    print('mean 2014: ', yr14[attr].mean(),\n",
    "         'median 2014: ', yr14[attr].median())\n",
    "    \n",
    "    return df"
   ]
  },
  {
   "cell_type": "code",
   "execution_count": 65,
   "metadata": {},
   "outputs": [
    {
     "data": {
      "image/png": "[encoded data removed]",
      "text/plain": [
       "<matplotlib.figure.Figure at 0x7f472e47b438>"
      ]
     },
     "metadata": {},
     "output_type": "display_data"
    },
    {
     "name": "stdout",
     "output_type": "stream",
     "text": [
      "Ttest_relResult(statistic=-0.65868517567257368, pvalue=0.51029435113011345)\n",
      "statistical power:  0.791164236214\n",
      "KruskalResult(statistic=0.30163599644480188, pvalue=0.58285861114420479)\n",
      "mean 2012:  5.67787839586 median 2012:  6.0\n",
      "mean 2014:  5.75161707633 median 2014:  6.0\n",
      "rejecting idno:  1314.0\n",
      "rejecting idno:  1101.0\n",
      "rejecting idno:  1268.0\n",
      "rejecting idno:  1308.0\n",
      "rejecting idno:  1316.0\n"
     ]
    },
    {
     "name": "stderr",
     "output_type": "stream",
     "text": [
      "/home/alliedtoasters/anaconda3/envs/dspy3/lib/python3.6/site-packages/ipykernel/__main__.py:13: SettingWithCopyWarning: \n",
      "A value is trying to be set on a copy of a slice from a DataFrame\n",
      "\n",
      "See the caveats in the documentation: http://pandas.pydata.org/pandas-docs/stable/indexing.html#indexing-view-versus-copy\n",
      "/home/alliedtoasters/anaconda3/envs/dspy3/lib/python3.6/site-packages/ipykernel/__main__.py:17: SettingWithCopyWarning: \n",
      "A value is trying to be set on a copy of a slice from a DataFrame\n",
      "\n",
      "See the caveats in the documentation: http://pandas.pydata.org/pandas-docs/stable/indexing.html#indexing-view-versus-copy\n"
     ]
    },
    {
     "name": "stdout",
     "output_type": "stream",
     "text": [
      "rejecting idno:  1331.0\n",
      "rejecting idno:  2097.0\n",
      "rejecting idno:  2118.0\n"
     ]
    },
    {
     "data": {
      "image/png": "[encoded data removed]",
      "text/plain": [
       "<matplotlib.figure.Figure at 0x7f4745ae8080>"
      ]
     },
     "metadata": {},
     "output_type": "display_data"
    },
    {
     "name": "stdout",
     "output_type": "stream",
     "text": [
      "Ttest_relResult(statistic=-0.50016383368872164, pvalue=0.6171292682404208)\n",
      "statistical power:  0.785978937816\n",
      "KruskalResult(statistic=0.84362991110276175, pvalue=0.35836067387096793)\n",
      "mean 2012:  4.36153846154 median 2012:  4.0\n",
      "mean 2014:  4.42923076923 median 2014:  5.0\n"
     ]
    },
    {
     "data": {
      "image/png": "[encoded data removed]",
      "text/plain": [
       "<matplotlib.figure.Figure at 0x7f472e773390>"
      ]
     },
     "metadata": {},
     "output_type": "display_data"
    },
    {
     "name": "stdout",
     "output_type": "stream",
     "text": [
      "Ttest_relResult(statistic=-0.18399501804849683, pvalue=0.85685637970958051)\n",
      "statistical power:  0.866474339065\n",
      "KruskalResult(statistic=0.03493591039585809, pvalue=0.85173001912501989)\n",
      "mean 2012:  5.21428571429 median 2012:  5.0\n",
      "mean 2014:  5.35714285714 median 2014:  5.5\n",
      "rejecting idno:  814.0\n",
      "rejecting idno:  1921.0\n"
     ]
    },
    {
     "data": {
      "image/png": "[encoded data removed]",
      "text/plain": [
       "<matplotlib.figure.Figure at 0x7f472e4ac2e8>"
      ]
     },
     "metadata": {},
     "output_type": "display_data"
    },
    {
     "name": "stdout",
     "output_type": "stream",
     "text": [
      "Ttest_relResult(statistic=2.4561906976601646, pvalue=0.014181580725321856)\n",
      "statistical power:  0.996271213041\n",
      "KruskalResult(statistic=8.0338873391011916, pvalue=0.0045910202955841972)\n",
      "mean 2012:  5.11230388109 median 2012:  5.0\n",
      "mean 2014:  4.89512799339 median 2014:  5.0\n",
      "rejecting idno:  18678.0\n",
      "rejecting idno:  10836.0\n"
     ]
    },
    {
     "data": {
      "image/png": "[encoded data removed]",
      "text/plain": [
       "<matplotlib.figure.Figure at 0x7f472e387d68>"
      ]
     },
     "metadata": {},
     "output_type": "display_data"
    },
    {
     "name": "stdout",
     "output_type": "stream",
     "text": [
      "Ttest_relResult(statistic=0.50730770811244041, pvalue=0.61209257015187668)\n",
      "statistical power:  0.748374279329\n",
      "KruskalResult(statistic=0.20474991979607021, pvalue=0.65091385915822464)\n",
      "mean 2012:  6.64746227709 median 2012:  7.0\n",
      "mean 2014:  6.59945130316 median 2014:  7.0\n",
      "rejecting idno:  499.0\n",
      "rejecting idno:  3561.0\n"
     ]
    },
    {
     "data": {
      "image/png": "[encoded data removed]",
      "text/plain": [
       "<matplotlib.figure.Figure at 0x7f4765d85c88>"
      ]
     },
     "metadata": {},
     "output_type": "display_data"
    },
    {
     "name": "stdout",
     "output_type": "stream",
     "text": [
      "Ttest_relResult(statistic=-2.0671082026033982, pvalue=0.039007816709577599)\n",
      "statistical power:  0.983296911163\n",
      "KruskalResult(statistic=4.2143025619225307, pvalue=0.040084541643601604)\n",
      "mean 2012:  6.05849889625 median 2012:  7.0\n",
      "mean 2014:  6.25717439294 median 2014:  7.0\n"
     ]
    }
   ],
   "source": [
    "countries = list(df.cntry.unique())\n",
    "for country in countries:\n",
    "    df = compare_years(df, country = country)"
   ]
  },
  {
   "cell_type": "markdown",
   "metadata": {},
   "source": [
    "A visual inspection suggests no major changes for each country from year to year, with the exception of DE (but there is no obvious movement in one direction for that particular country.) The only p <. 05 results are spain (ES) and Sweden (SE). We see the mean value in Spain decreased slightly from 5.1 in 2012 to 4.9 in 2014, where in Sweden it increased from 6.05 to 6.25. Both of these changes in mean responses come with a p < .05 and statistical power value > .95, which suggests a very low probability of erroneously rejecting $ H_0 $: that the survey year (2012 vs 2014) has no effect on mean response for these countries."
   ]
  },
  {
   "cell_type": "markdown",
   "metadata": {},
   "source": [
    "## Question 2: Did people become happier from 2012 to 2014? Compute results for each country in the sample."
   ]
  },
  {
   "cell_type": "code",
   "execution_count": 66,
   "metadata": {},
   "outputs": [
    {
     "name": "stdout",
     "output_type": "stream",
     "text": [
      "rejecting idno:  715.0\n",
      "rejecting idno:  789.0\n",
      "rejecting idno:  2397.0\n"
     ]
    },
    {
     "name": "stderr",
     "output_type": "stream",
     "text": [
      "/home/alliedtoasters/anaconda3/envs/dspy3/lib/python3.6/site-packages/ipykernel/__main__.py:17: SettingWithCopyWarning: \n",
      "A value is trying to be set on a copy of a slice from a DataFrame\n",
      "\n",
      "See the caveats in the documentation: http://pandas.pydata.org/pandas-docs/stable/indexing.html#indexing-view-versus-copy\n"
     ]
    },
    {
     "data": {
      "image/png": "[encoded data removed]",
      "text/plain": [
       "<matplotlib.figure.Figure at 0x7f4764048eb8>"
      ]
     },
     "metadata": {},
     "output_type": "display_data"
    },
    {
     "name": "stdout",
     "output_type": "stream",
     "text": [
      "Ttest_relResult(statistic=-0.31941295786223201, pvalue=0.7495001355428359)\n",
      "statistical power:  0.782875588916\n",
      "KruskalResult(statistic=0.1553248854077178, pvalue=0.69349777405218627)\n",
      "mean 2012:  8.08831168831 median 2012:  8.0\n",
      "mean 2014:  8.11168831169 median 2014:  8.0\n",
      "rejecting idno:  1036.0\n",
      "rejecting idno:  1040.0\n",
      "rejecting idno:  1109.0\n",
      "rejecting idno:  1164.0\n",
      "rejecting idno:  1266.0\n",
      "rejecting idno:  1387.0\n"
     ]
    },
    {
     "name": "stderr",
     "output_type": "stream",
     "text": [
      "/home/alliedtoasters/anaconda3/envs/dspy3/lib/python3.6/site-packages/ipykernel/__main__.py:13: SettingWithCopyWarning: \n",
      "A value is trying to be set on a copy of a slice from a DataFrame\n",
      "\n",
      "See the caveats in the documentation: http://pandas.pydata.org/pandas-docs/stable/indexing.html#indexing-view-versus-copy\n"
     ]
    },
    {
     "name": "stdout",
     "output_type": "stream",
     "text": [
      "rejecting idno:  1039.0\n",
      "rejecting idno:  1058.0\n",
      "rejecting idno:  1066.0\n",
      "rejecting idno:  1149.0\n",
      "rejecting idno:  1177.0\n",
      "rejecting idno:  1243.0\n",
      "rejecting idno:  1246.0\n",
      "rejecting idno:  1289.0\n",
      "rejecting idno:  1386.0\n",
      "rejecting idno:  1388.0\n",
      "rejecting idno:  1472.0\n",
      "rejecting idno:  2119.0\n"
     ]
    },
    {
     "data": {
      "image/png": "[encoded data removed]",
      "text/plain": [
       "<matplotlib.figure.Figure at 0x7f472e2f6358>"
      ]
     },
     "metadata": {},
     "output_type": "display_data"
    },
    {
     "name": "stdout",
     "output_type": "stream",
     "text": [
      "Ttest_relResult(statistic=-1.4561384833039597, pvalue=0.14584548433894534)\n",
      "statistical power:  0.928585742568\n",
      "KruskalResult(statistic=1.8541158661947039, pvalue=0.17330545259186408)\n",
      "mean 2012:  6.7671875 median 2012:  7.0\n",
      "mean 2014:  6.9296875 median 2014:  7.0\n"
     ]
    },
    {
     "data": {
      "image/png": "[encoded data removed]",
      "text/plain": [
       "<matplotlib.figure.Figure at 0x7f472e33ec18>"
      ]
     },
     "metadata": {},
     "output_type": "display_data"
    },
    {
     "name": "stdout",
     "output_type": "stream",
     "text": [
      "Ttest_relResult(statistic=-0.80622577482985491, pvalue=0.43461387077349911)\n",
      "statistical power:  0.718509840857\n",
      "KruskalResult(statistic=0.39056749122656015, pvalue=0.53200125505866203)\n",
      "mean 2012:  7.42857142857 median 2012:  8.0\n",
      "mean 2014:  7.85714285714 median 2014:  8.0\n",
      "rejecting idno:  885.0\n",
      "rejecting idno:  1210.0\n"
     ]
    },
    {
     "data": {
      "image/png": "[encoded data removed]",
      "text/plain": [
       "<matplotlib.figure.Figure at 0x7f476d168940>"
      ]
     },
     "metadata": {},
     "output_type": "display_data"
    },
    {
     "name": "stdout",
     "output_type": "stream",
     "text": [
      "Ttest_relResult(statistic=1.613832417735418, pvalue=0.1068245155648069)\n",
      "statistical power:  0.945407897058\n",
      "KruskalResult(statistic=3.9620118510103475, pvalue=0.046538051258145516)\n",
      "mean 2012:  7.54748142031 median 2012:  8.0\n",
      "mean 2014:  7.42031379026 median 2014:  8.0\n",
      "rejecting idno:  9846.0\n",
      "rejecting idno:  10836.0\n",
      "rejecting idno:  14862.0\n",
      "rejecting idno:  20076.0\n"
     ]
    },
    {
     "data": {
      "image/png": "[encoded data removed]",
      "text/plain": [
       "<matplotlib.figure.Figure at 0x7f47368545c0>"
      ]
     },
     "metadata": {},
     "output_type": "display_data"
    },
    {
     "name": "stdout",
     "output_type": "stream",
     "text": [
      "Ttest_relResult(statistic=4.2856826576235925, pvalue=2.0674530134057013e-05)\n",
      "statistical power:  0.99922838645\n",
      "KruskalResult(statistic=19.516976798583492, pvalue=9.9709577896719241e-06)\n",
      "mean 2012:  8.25171939477 median 2012:  8.0\n",
      "mean 2014:  7.91196698762 median 2014:  8.0\n",
      "rejecting idno:  165.0\n",
      "rejecting idno:  252.0\n",
      "rejecting idno:  787.0\n",
      "rejecting idno:  1494.0\n"
     ]
    },
    {
     "data": {
      "image/png": "[encoded data removed]",
      "text/plain": [
       "<matplotlib.figure.Figure at 0x7f4745ae8080>"
      ]
     },
     "metadata": {},
     "output_type": "display_data"
    },
    {
     "name": "stdout",
     "output_type": "stream",
     "text": [
      "Ttest_relResult(statistic=-0.55816370860300124, pvalue=0.57687095912341613)\n",
      "statistical power:  0.721076683143\n",
      "KruskalResult(statistic=0.039421145398400935, pvalue=0.84261665454706791)\n",
      "mean 2012:  7.9092920354 median 2012:  8.0\n",
      "mean 2014:  7.94800884956 median 2014:  8.0\n"
     ]
    }
   ],
   "source": [
    "for country in countries:\n",
    "    df = compare_years(df, country = country, attr = 'happy')"
   ]
  },
  {
   "cell_type": "markdown",
   "metadata": {},
   "source": [
    "The only response with highly significant differences between the two years in Norway (NO), whose mean response decreased from 8.25 in 2012 to 7.9 in 2014. This change in mean comes with a small p value and a high statistical power, suggesting a very high likelihood for correctly rejecting $ H_0 $: that there is no effect between 2012 and 2014 on the response distribution."
   ]
  },
  {
   "cell_type": "markdown",
   "metadata": {},
   "source": [
    "## Question 3: Who reported watching more TV in 2012, men or women?"
   ]
  },
  {
   "cell_type": "code",
   "execution_count": 7,
   "metadata": {},
   "outputs": [
    {
     "name": "stderr",
     "output_type": "stream",
     "text": [
      "/home/alliedtoasters/anaconda3/envs/dspy3/lib/python3.6/site-packages/ipykernel/__main__.py:2: UserWarning: Boolean Series key will be reindexed to match DataFrame index.\n",
      "  from ipykernel import kernelapp as app\n"
     ]
    },
    {
     "data": {
      "image/png": "[encoded data removed]",
      "text/plain": [
       "<matplotlib.figure.Figure at 0x7f5aa26625c0>"
      ]
     },
     "metadata": {},
     "output_type": "display_data"
    },
    {
     "name": "stdout",
     "output_type": "stream",
     "text": [
      "Ttest_indResult(statistic=0.68999281092095022, pvalue=0.49023604026969858)\n",
      "statistical power:  0.776162132091\n",
      "KruskalResult(statistic=0.57660910205494509, pvalue=0.44764452250079501)\n",
      "mean female response:  3.94439252336 median female response:  4.0\n",
      "mean male response:  3.90190609019 median male response:  4.0\n"
     ]
    }
   ],
   "source": [
    "#Get all 2012 responses w/ tvtot\n",
    "data12 = df[df.year==6][df.tvtot.notnull()]\n",
    "\n",
    "#assign into male/female groups\n",
    "f12 = data12[data12.gndr==2]\n",
    "m12 = data12[data12.gndr==1]\n",
    "\n",
    "f12.tvtot.hist(alpha=.6, label='female', bins=7)\n",
    "m12.tvtot.hist(alpha=.6, label='male', bins=7)\n",
    "plt.title('Total time spent watching TV responses, 2012')\n",
    "plt.legend();\n",
    "plt.show();\n",
    "\n",
    "ttest_res = stats.ttest_ind(f12.tvtot, m12.tvtot)\n",
    "print(ttest_res)\n",
    "alpha = ttest_res[1]\n",
    "pooled_SD = sqrt((f12.tvtot.std()+m12.tvtot.std())/2)\n",
    "effect_size = abs(f12.tvtot.mean() - m12.tvtot.mean()) / pooled_SD\n",
    "print('statistical power: ', power.tt_solve_power(effect_size=effect_size, nobs=len(m12), alpha=alpha, power=None, alternative='two-sided'))\n",
    "\n",
    "print(stats.kruskal(f12.tvtot, m12.tvtot))\n",
    "print('mean female response: ', f12.tvtot.mean(), \n",
    "      'median female response: ', f12.tvtot.median())\n",
    "print('mean male response: ', m12.tvtot.mean(),\n",
    "     'median male response: ', m12.tvtot.median())"
   ]
  },
  {
   "cell_type": "markdown",
   "metadata": {},
   "source": [
    "Neither a t-test nor the Kruskal-Wallis test detect a significant difference between the two groups, and a visual inspection of the response distributions between the male and female groups seems to agree: there's no visible difference between the two distributions. We can confidently accept $ H_0 $, that sex has no impact on time spent watching TV responses."
   ]
  },
  {
   "cell_type": "markdown",
   "metadata": {},
   "source": [
    "## Question 4: Who was more likely to believe people were fair in 2012, people living with a partner or people living alone?"
   ]
  },
  {
   "cell_type": "code",
   "execution_count": 8,
   "metadata": {},
   "outputs": [
    {
     "name": "stderr",
     "output_type": "stream",
     "text": [
      "/home/alliedtoasters/anaconda3/envs/dspy3/lib/python3.6/site-packages/ipykernel/__main__.py:2: UserWarning: Boolean Series key will be reindexed to match DataFrame index.\n",
      "  from ipykernel import kernelapp as app\n"
     ]
    },
    {
     "data": {
      "image/png": "[encoded data removed]",
      "text/plain": [
       "<matplotlib.figure.Figure at 0x7f5adcf0f1d0>"
      ]
     },
     "metadata": {},
     "output_type": "display_data"
    },
    {
     "name": "stdout",
     "output_type": "stream",
     "text": [
      "Ttest_indResult(statistic=3.3201033970362084, pvalue=0.00090739526098837563)\n",
      "statistical power:  0.997493885062\n",
      "KruskalResult(statistic=13.739649374653519, pvalue=0.00020997468964373384)\n",
      "mean single response:  5.85696517413 median single response:  6.0\n",
      "mean partnered response:  6.08073601202 median partnered response:  7.0\n"
     ]
    }
   ],
   "source": [
    "#Get all 2012 responses w/ fairness response\n",
    "data12 = df[df.year==6][df.pplfair.notnull()]\n",
    "\n",
    "#assign into single/partner groups\n",
    "p12 = data12[data12.partner==1]\n",
    "s12 = data12[data12.partner==2]\n",
    "\n",
    "p12.pplfair.hist(alpha=.6, label='w/ partner', bins=10)\n",
    "s12.pplfair.hist(alpha=.6, label='single', bins=10)\n",
    "plt.title('People fairness responses, 2012')\n",
    "plt.legend();\n",
    "plt.show();\n",
    "\n",
    "ttest_res = stats.ttest_ind(p12.pplfair, s12.pplfair)\n",
    "print(ttest_res)\n",
    "alpha = ttest_res[1]\n",
    "pooled_SD = sqrt((p12.pplfair.std()+s12.pplfair.std())/2)\n",
    "effect_size = abs(p12.pplfair.mean() - s12.pplfair.mean()) / pooled_SD\n",
    "print('statistical power: ', power.tt_solve_power(effect_size=effect_size, nobs=len(s12), alpha=alpha, power=None, alternative='two-sided'))\n",
    "\n",
    "\n",
    "print(stats.kruskal(p12.pplfair, s12.pplfair))\n",
    "print('mean single response: ', s12.pplfair.mean(), \n",
    "      'median single response: ', s12.pplfair.median())\n",
    "print('mean partnered response: ', p12.pplfair.mean(),\n",
    "     'median partnered response: ', p12.pplfair.median()) "
   ]
  },
  {
   "cell_type": "markdown",
   "metadata": {},
   "source": [
    "It looks like there's a strong tendency for people living with a partner to respond higher to the question, \"do you think that most people would try to take advantage of you if they got the chance, or would they try to be fair? (1-10),\" supported by a higher mean and higher median response in the partnered group, a low p value in both a t-test and a Kruskal-Wallis test between the two distributions. This could appear to agree with my expectation that more trusting people are more willing/likely to live with a partner. However, it's only enough to reject $ H_0 $: that living alone or living with a partner has no effect on response to the question."
   ]
  },
  {
   "cell_type": "code",
   "execution_count": 9,
   "metadata": {},
   "outputs": [
    {
     "data": {
      "text/plain": [
       "1.0    5276\n",
       "2.0    3301\n",
       "Name: partner, dtype: int64"
      ]
     },
     "execution_count": 9,
     "metadata": {},
     "output_type": "execute_result"
    }
   ],
   "source": [
    "df.partner.value_counts()"
   ]
  },
  {
   "cell_type": "markdown",
   "metadata": {},
   "source": [
    "## Question 5: Pick three or four of the countries in the sample and compare how often people met socially in 2014. Are there differences, and if so, which countries stand out?\n",
    "\n",
    "I want to pick the countries with the most avialable samples for more play. Let's see."
   ]
  },
  {
   "cell_type": "code",
   "execution_count": 118,
   "metadata": {},
   "outputs": [],
   "source": [
    "def anova_groups(df, groups, attr='sclmeet'):\n",
    "    lists = []\n",
    "    for group in groups:\n",
    "        lists.append(df[df.cntry == group].sclmeet)\n",
    "        print('\\nThe mean value for {} is: '.format(group), lists[-1].mean())\n",
    "        print('The median value for {} is: '.format(group), lists[-1].median())\n",
    "        #return\n",
    "    print('\\n')\n",
    "    print('Including all groups:')\n",
    "    print(stats.f_oneway(*lists))\n",
    "    print(stats.kruskal(*lists))\n",
    "    for i, group in enumerate(groups):\n",
    "        print('\\nexcluding group: ', group)\n",
    "        new_list = lists[:i] + lists[(i+1):]\n",
    "        print(stats.f_oneway(*new_list))\n",
    "        print(stats.kruskal(*new_list))\n",
    "    return None"
   ]
  },
  {
   "cell_type": "code",
   "execution_count": 120,
   "metadata": {},
   "outputs": [
    {
     "name": "stderr",
     "output_type": "stream",
     "text": [
      "/home/alliedtoasters/anaconda3/envs/dspy3/lib/python3.6/site-packages/ipykernel/__main__.py:1: UserWarning: Boolean Series key will be reindexed to match DataFrame index.\n",
      "  if __name__ == '__main__':\n"
     ]
    },
    {
     "data": {
      "text/plain": [
       "ES    1211\n",
       "SE     908\n",
       "CH     772\n",
       "NO     731\n",
       "CZ     655\n",
       "DE      14\n",
       "Name: cntry, dtype: int64"
      ]
     },
     "execution_count": 120,
     "metadata": {},
     "output_type": "execute_result"
    }
   ],
   "source": [
    "data14 = df[df.year==7][df.sclmeet.notnull()]\n",
    "data14.cntry.value_counts()"
   ]
  },
  {
   "cell_type": "code",
   "execution_count": 122,
   "metadata": {},
   "outputs": [
    {
     "name": "stdout",
     "output_type": "stream",
     "text": [
      "\n",
      "The mean value for ES is:  5.26011560694\n",
      "The median value for ES is:  6.0\n",
      "\n",
      "The mean value for SE is:  5.42621145374\n",
      "The median value for SE is:  6.0\n",
      "\n",
      "The mean value for CH is:  5.16062176166\n",
      "The median value for CH is:  6.0\n",
      "\n",
      "The mean value for NO is:  5.3023255814\n",
      "The median value for NO is:  6.0\n",
      "\n",
      "\n",
      "Including all groups:\n",
      "F_onewayResult(statistic=5.3617236593518438, pvalue=0.001106621438920195)\n",
      "KruskalResult(statistic=21.186241353532942, pvalue=9.6304263259085977e-05)\n",
      "\n",
      "excluding group:  ES\n",
      "F_onewayResult(statistic=8.1348205491906338, pvalue=0.00030128247695001382)\n",
      "KruskalResult(statistic=21.708596810002788, pvalue=1.9321378032271685e-05)\n",
      "\n",
      "excluding group:  SE\n",
      "F_onewayResult(statistic=2.1071395397327897, pvalue=0.12178434658137968)\n",
      "KruskalResult(statistic=7.7293619444946691, pvalue=0.020969611257989122)\n",
      "\n",
      "excluding group:  CH\n",
      "F_onewayResult(statistic=3.726110434690217, pvalue=0.024203881861066479)\n",
      "KruskalResult(statistic=6.9040385192298057, pvalue=0.031681598373018129)\n",
      "\n",
      "excluding group:  NO\n",
      "F_onewayResult(statistic=7.8889073426891416, pvalue=0.00038301513884460325)\n",
      "KruskalResult(statistic=20.974963481937596, pvalue=2.7883324361335602e-05)\n"
     ]
    }
   ],
   "source": [
    "sel_countries = ['ES', 'SE', 'CH', 'NO']\n",
    "anova_groups(data14, sel_countries)"
   ]
  },
  {
   "cell_type": "markdown",
   "metadata": {},
   "source": [
    "Based on these results and my criteria, it looks like Spain (ES), Sweden (SE), Switzerland (CH), and Norway (NO) are the best four to choose from."
   ]
  },
  {
   "cell_type": "markdown",
   "metadata": {},
   "source": [
    "There appears to be a notable effect on the response for the social gathering question. With respect to statistical power, it looks like Sweden's higher mean response (5.4) is notably different (greater) than the aggregate responses of the other countries, with both high statistical power and low p value associated with its t-test. For Sweden, we can reject $ H_0 $ with high confidence."
   ]
  },
  {
   "cell_type": "markdown",
   "metadata": {},
   "source": [
    "## Question 6: Pick three or four of the countries in the sample and compare how often people took part in social activities, relative to others their age, in 2014. Are there differences, and if so, which countries stand out? Submit a link to your work below."
   ]
  },
  {
   "cell_type": "code",
   "execution_count": 12,
   "metadata": {},
   "outputs": [
    {
     "name": "stderr",
     "output_type": "stream",
     "text": [
      "/home/alliedtoasters/anaconda3/envs/dspy3/lib/python3.6/site-packages/ipykernel/__main__.py:2: UserWarning: Boolean Series key will be reindexed to match DataFrame index.\n",
      "  from ipykernel import kernelapp as app\n"
     ]
    },
    {
     "data": {
      "text/plain": [
       "ES    1185\n",
       "SE     904\n",
       "CH     765\n",
       "NO     731\n",
       "CZ     650\n",
       "DE      14\n",
       "Name: cntry, dtype: int64"
      ]
     },
     "execution_count": 12,
     "metadata": {},
     "output_type": "execute_result"
    }
   ],
   "source": [
    "# I'll pick the same set of countries as before for the same reason: big samples.\n",
    "data14 = df[df.year==7][df.sclact.notnull()]\n",
    "data14.cntry.value_counts()"
   ]
  },
  {
   "cell_type": "code",
   "execution_count": 123,
   "metadata": {},
   "outputs": [
    {
     "name": "stdout",
     "output_type": "stream",
     "text": [
      "\n",
      "The mean value for ES is:  5.26011560694\n",
      "The median value for ES is:  6.0\n",
      "\n",
      "The mean value for SE is:  5.42621145374\n",
      "The median value for SE is:  6.0\n",
      "\n",
      "The mean value for CH is:  5.16062176166\n",
      "The median value for CH is:  6.0\n",
      "\n",
      "The mean value for NO is:  5.3023255814\n",
      "The median value for NO is:  6.0\n",
      "\n",
      "\n",
      "Including all groups:\n",
      "F_onewayResult(statistic=5.3617236593518438, pvalue=0.001106621438920195)\n",
      "KruskalResult(statistic=21.186241353532942, pvalue=9.6304263259085977e-05)\n",
      "\n",
      "excluding group:  ES\n",
      "F_onewayResult(statistic=8.1348205491906338, pvalue=0.00030128247695001382)\n",
      "KruskalResult(statistic=21.708596810002788, pvalue=1.9321378032271685e-05)\n",
      "\n",
      "excluding group:  SE\n",
      "F_onewayResult(statistic=2.1071395397327897, pvalue=0.12178434658137968)\n",
      "KruskalResult(statistic=7.7293619444946691, pvalue=0.020969611257989122)\n",
      "\n",
      "excluding group:  CH\n",
      "F_onewayResult(statistic=3.726110434690217, pvalue=0.024203881861066479)\n",
      "KruskalResult(statistic=6.9040385192298057, pvalue=0.031681598373018129)\n",
      "\n",
      "excluding group:  NO\n",
      "F_onewayResult(statistic=7.8889073426891416, pvalue=0.00038301513884460325)\n",
      "KruskalResult(statistic=20.974963481937596, pvalue=2.7883324361335602e-05)\n"
     ]
    }
   ],
   "source": [
    "anova_groups(data14, sel_countries, attr='aclact')"
   ]
  },
  {
   "cell_type": "markdown",
   "metadata": {
    "collapsed": true
   },
   "source": [
    "Although there are some notable differences, it's important to point out the low statistical power of the t-tests I perform between each country's individual distribution and the total distribution of responses (across all countries.) This suggests that, while there may be some \"significant\" differences in the responses, there's not enough statistical power to confidently reject the null hypothesis, that country has no effect on response to this question. The greatest power comes from looking at Spain (ES), which still leaves an unsatisfactorily-high chance for erroneously rejecting $ H_0 $."
   ]
  },
  {
   "cell_type": "code",
   "execution_count": null,
   "metadata": {
    "collapsed": true
   },
   "outputs": [],
   "source": []
  }
 ],
 "metadata": {
  "anaconda-cloud": {},
  "kernelspec": {
   "display_name": "Environment (conda_dspy3)",
   "language": "python",
   "name": "conda_dspy3"
  },
  "language_info": {
   "codemirror_mode": {
    "name": "ipython",
    "version": 3
   },
   "file_extension": ".py",
   "mimetype": "text/x-python",
   "name": "python",
   "nbconvert_exporter": "python",
   "pygments_lexer": "ipython3",
   "version": "3.6.4"
  }
 },
 "nbformat": 4,
 "nbformat_minor": 2
}
